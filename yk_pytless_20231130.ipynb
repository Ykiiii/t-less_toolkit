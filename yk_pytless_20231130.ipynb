{
  "cells": [
    {
      "cell_type": "markdown",
      "metadata": {
        "id": "view-in-github",
        "colab_type": "text"
      },
      "source": [
        "<a href=\"https://colab.research.google.com/github/Ykiiii/t-less_toolkit/blob/master/yk_pytless_20231130.ipynb\" target=\"_parent\"><img src=\"https://colab.research.google.com/assets/colab-badge.svg\" alt=\"Open In Colab\"/></a>"
      ]
    },
    {
      "cell_type": "code",
      "source": [
        "# 挂载GD\n",
        "from google.colab import drive\n",
        "drive.mount('/content/drive')"
      ],
      "metadata": {
        "id": "mg3f9zAAiKUP",
        "outputId": "17205245-9add-496f-bad6-d9503bd80b97",
        "colab": {
          "base_uri": "https://localhost:8080/"
        }
      },
      "execution_count": 1,
      "outputs": [
        {
          "output_type": "stream",
          "name": "stdout",
          "text": [
            "Mounted at /content/drive\n"
          ]
        }
      ]
    },
    {
      "cell_type": "code",
      "source": [
        "# 挂载github\n",
        "using_colab = True\n",
        "if using_colab:\n",
        "    import torch\n",
        "    import torchvision\n",
        "    print(\"PyTorch version:\", torch.__version__)\n",
        "    print(\"Torchvision version:\", torchvision.__version__)\n",
        "    print(\"CUDA is available:\", torch.cuda.is_available())\n",
        "    import sys\n",
        "    !{sys.executable} -m pip install opencv-python matplotlib\n",
        "    !{sys.executable} -m pip install 'git+https://github.com/Ykiiii/t-less_toolkit.git'\n"
      ],
      "metadata": {
        "id": "bjHsP-09iWCa"
      },
      "execution_count": null,
      "outputs": []
    },
    {
      "cell_type": "code",
      "execution_count": null,
      "metadata": {
        "id": "0H_FVjmyiHHm"
      },
      "outputs": [],
      "source": [
        "from pytless import inout, renderer, misc\n",
        "import os\n",
        "import numpy as np\n",
        "import scipy.misc\n",
        "import matplotlib.pyplot as plt\n",
        "import imageio"
      ]
    },
    {
      "cell_type": "code",
      "execution_count": null,
      "metadata": {
        "id": "Ep0szTMxiHHo"
      },
      "outputs": [],
      "source": [
        "scene_ids = [20] # Choose which scene_ids to render. Eg. range(1, 21)\n",
        "device = 'primesense' # options: 'primesense', 'kinect', 'canon'\n",
        "model_type = 'cad' # options: 'cad', 'reconst'\n",
        "im_step = 100 # Consider every im_step-th image\n",
        "\n",
        "# Path to the T-LESS dataset.\n",
        "# Which you can download using the t-less_download.py script.\n",
        "data_path = 'E:\\\\DataSets'\n",
        "\n",
        "# Path to the folder in which the images produced by this script will be saved\n",
        "output_dir = os.path.join(data_path, 'output_check_poses_test_imgs')\n",
        "\n",
        "# Paths to the elements of the T-LESS dataset\n",
        "model_path_mask = os.path.join(data_path, 'models_' + model_type, 'obj_{:02d}.ply')\n",
        "scene_info_path_mask = os.path.join(data_path, 'test_{}', '{:02d}', 'info.yml')\n",
        "scene_gt_path_mask = os.path.join(data_path, 'test_{}', '{:02d}', 'gt.yml')\n",
        "rgb_path_mask = os.path.join(data_path, 'test_{}', '{:02d}', 'rgb', '{:04d}.{}')\n",
        "depth_path_mask = os.path.join(data_path, 'test_{}', '{:02d}', 'depth', '{:04d}.png')\n",
        "rgb_ext = {'primesense': 'png', 'kinect': 'png', 'canon': 'jpg'}\n",
        "obj_colors_path = os.path.join('data', 'obj_rgb.txt')\n",
        "vis_rgb_path_mask = os.path.join(output_dir, '{:02d}_{}_{}_{:04d}_rgb.png')\n",
        "vis_depth_path_mask = os.path.join(output_dir, '{:02d}_{}_{}_{:04d}_depth_diff.png')\n",
        "\n",
        "misc.ensure_dir(output_dir)\n",
        "obj_colors = inout.load_colors(obj_colors_path)"
      ]
    },
    {
      "cell_type": "code",
      "execution_count": null,
      "metadata": {
        "id": "I1H2vJEaiHHp",
        "outputId": "fc4aa247-9920-4caf-ed34-c65e6b5d08f2"
      },
      "outputs": [
        {
          "data": {
            "text/plain": [
              "'{:02d}\\\\rgb\\\\04d}.{}'"
            ]
          },
          "execution_count": 10,
          "metadata": {},
          "output_type": "execute_result"
        }
      ],
      "source": [
        "rgb_path_mask\n"
      ]
    }
  ],
  "metadata": {
    "kernelspec": {
      "display_name": "yk_SegAny",
      "language": "python",
      "name": "python3"
    },
    "language_info": {
      "codemirror_mode": {
        "name": "ipython",
        "version": 3
      },
      "file_extension": ".py",
      "mimetype": "text/x-python",
      "name": "python",
      "nbconvert_exporter": "python",
      "pygments_lexer": "ipython3",
      "version": "3.8.18"
    },
    "colab": {
      "provenance": [],
      "include_colab_link": true
    }
  },
  "nbformat": 4,
  "nbformat_minor": 0
}