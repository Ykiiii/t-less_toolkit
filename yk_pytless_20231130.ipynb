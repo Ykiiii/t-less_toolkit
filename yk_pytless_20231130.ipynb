{
  "cells": [
    {
      "cell_type": "markdown",
      "metadata": {
        "id": "view-in-github",
        "colab_type": "text"
      },
      "source": [
        "<a href=\"https://colab.research.google.com/github/Ykiiii/t-less_toolkit/blob/master/yk_pytless_20231130.ipynb\" target=\"_parent\"><img src=\"https://colab.research.google.com/assets/colab-badge.svg\" alt=\"Open In Colab\"/></a>"
      ]
    },
    {
      "cell_type": "markdown",
      "source": [
        "# colab"
      ],
      "metadata": {
        "id": "ZOvVR1SZxy9J"
      }
    },
    {
      "cell_type": "code",
      "execution_count": 1,
      "metadata": {
        "colab": {
          "base_uri": "https://localhost:8080/"
        },
        "id": "mg3f9zAAiKUP",
        "outputId": "a4caeffe-ec84-42d0-a68a-787e3fd04e25"
      },
      "outputs": [
        {
          "output_type": "stream",
          "name": "stdout",
          "text": [
            "Mounted at /content/drive\n"
          ]
        }
      ],
      "source": [
        "# 挂载GD\n",
        "from google.colab import drive\n",
        "drive.mount('/content/drive')"
      ]
    },
    {
      "cell_type": "code",
      "execution_count": null,
      "metadata": {
        "id": "bjHsP-09iWCa"
      },
      "outputs": [],
      "source": [
        "# 挂载github\n",
        "using_colab = True\n",
        "if using_colab:\n",
        "    import torch\n",
        "    import torchvision\n",
        "    print(\"PyTorch version:\", torch.__version__)\n",
        "    print(\"Torchvision version:\", torchvision.__version__)\n",
        "    print(\"CUDA is available:\", torch.cuda.is_available())\n",
        "    import sys\n",
        "    !{sys.executable} -m pip install vispy\n",
        "    !{sys.executable} -m pip install 'git+https://github.com/Ykiiii/t-less_toolkit.git'\n"
      ]
    },
    {
      "cell_type": "code",
      "source": [
        "!git clone https://github.com/Ykiiii/t-less_toolkit.git\n"
      ],
      "metadata": {
        "colab": {
          "base_uri": "https://localhost:8080/"
        },
        "id": "FGu7mw7Hn2Sn",
        "outputId": "98af2f3e-b149-44fb-de5b-d18555c5a4b8"
      },
      "execution_count": 3,
      "outputs": [
        {
          "output_type": "stream",
          "name": "stdout",
          "text": [
            "Cloning into 't-less_toolkit'...\n",
            "remote: Enumerating objects: 224, done.\u001b[K\n",
            "remote: Counting objects:   4% (1/22)\u001b[K\rremote: Counting objects:   9% (2/22)\u001b[K\rremote: Counting objects:  13% (3/22)\u001b[K\rremote: Counting objects:  18% (4/22)\u001b[K\rremote: Counting objects:  22% (5/22)\u001b[K\rremote: Counting objects:  27% (6/22)\u001b[K\rremote: Counting objects:  31% (7/22)\u001b[K\rremote: Counting objects:  36% (8/22)\u001b[K\rremote: Counting objects:  40% (9/22)\u001b[K\rremote: Counting objects:  45% (10/22)\u001b[K\rremote: Counting objects:  50% (11/22)\u001b[K\rremote: Counting objects:  54% (12/22)\u001b[K\rremote: Counting objects:  59% (13/22)\u001b[K\rremote: Counting objects:  63% (14/22)\u001b[K\rremote: Counting objects:  68% (15/22)\u001b[K\rremote: Counting objects:  72% (16/22)\u001b[K\rremote: Counting objects:  77% (17/22)\u001b[K\rremote: Counting objects:  81% (18/22)\u001b[K\rremote: Counting objects:  86% (19/22)\u001b[K\rremote: Counting objects:  90% (20/22)\u001b[K\rremote: Counting objects:  95% (21/22)\u001b[K\rremote: Counting objects: 100% (22/22)\u001b[K\rremote: Counting objects: 100% (22/22), done.\u001b[K\n",
            "remote: Compressing objects: 100% (18/18), done.\u001b[K\n",
            "remote: Total 224 (delta 5), reused 16 (delta 3), pack-reused 202\u001b[K\n",
            "Receiving objects: 100% (224/224), 1.79 MiB | 9.52 MiB/s, done.\n",
            "Resolving deltas: 100% (106/106), done.\n"
          ]
        }
      ]
    },
    {
      "cell_type": "code",
      "source": [
        "/content/t-less_toolkit/t-less_download.py"
      ],
      "metadata": {
        "id": "l5zgdqAno3Ln"
      },
      "execution_count": null,
      "outputs": []
    },
    {
      "cell_type": "code",
      "execution_count": 11,
      "metadata": {
        "id": "I1H2vJEaiHHp",
        "outputId": "ed2dd525-0640-4459-c75a-db0b524c1cef",
        "colab": {
          "base_uri": "https://localhost:8080/"
        }
      },
      "outputs": [
        {
          "output_type": "stream",
          "name": "stdout",
          "text": [
            "usage: t-less_download.py [-h] [--destination DESTINATION] [--train [obj_id ...]]\n",
            "                          [--test [scene_id ...]]\n",
            "                          [--sensors {primesense,kinect,canon} [{primesense,kinect,canon} ...]]\n",
            "                          [--models [{cad,cad_subdivided,reconst} ...]]\n",
            "\n",
            "Downloads and unpacks the selected parts of the T-LESS dataset. Example usage: \"t-less_download.py\n",
            "--train --test --models --sensors primesense\" - downloads and unpacks all models and all images\n",
            "from the Primesense sensor.\n",
            "\n",
            "options:\n",
            "  -h, --help            show this help message and exit\n",
            "  --destination DESTINATION\n",
            "                        destination folder inside which a new folder for the dataset is created\n",
            "                        (default is the current folder)\n",
            "  --train [obj_id ...]  IDs of objects (all are downloaded if no ID is specified)\n",
            "  --test [scene_id ...]\n",
            "                        IDs of scenes (all are downloaded if no ID is specified)\n",
            "  --sensors {primesense,kinect,canon} [{primesense,kinect,canon} ...]\n",
            "                        sensors (images from all sensors are downloaded if none is specified)\n",
            "  --models [{cad,cad_subdivided,reconst} ...]\n",
            "                        variants of 3D object models (all variants are downloaded if none is\n",
            "                        specified)\n"
          ]
        }
      ],
      "source": [
        "!python t-less_toolkit/t-less_download.py --help"
      ]
    },
    {
      "cell_type": "code",
      "source": [
        "!echo -e '\\n' | python t-less_toolkit/t-less_download.py --train  --test  --models cad --sensors primesense\n",
        "\n"
      ],
      "metadata": {
        "id": "tKH4gq5Jq-NG"
      },
      "execution_count": null,
      "outputs": []
    },
    {
      "cell_type": "code",
      "source": [
        "!python /content/t-less_toolkit/check_poses_train_imgs.py"
      ],
      "metadata": {
        "colab": {
          "base_uri": "https://localhost:8080/"
        },
        "id": "bTli9tlwvim-",
        "outputId": "dd57b393-ae8b-45c0-cf47-cb36cd8c045c"
      },
      "execution_count": 21,
      "outputs": [
        {
          "output_type": "stream",
          "name": "stdout",
          "text": [
            "Traceback (most recent call last):\n",
            "  File \"/content/t-less_toolkit/check_poses_train_imgs.py\", line 9, in <module>\n",
            "    from pytless import inout, renderer, misc\n",
            "  File \"/content/t-less_toolkit/pytless/renderer.py\", line 9, in <module>\n",
            "    app.use_app('PyGlet') # Set backend\n",
            "  File \"/usr/local/lib/python3.10/dist-packages/vispy/app/_default_app.py\", line 47, in use_app\n",
            "    default_app = Application(backend_name)\n",
            "  File \"/usr/local/lib/python3.10/dist-packages/vispy/app/application.py\", line 47, in __init__\n",
            "    self._use(backend_name)\n",
            "  File \"/usr/local/lib/python3.10/dist-packages/vispy/app/application.py\", line 240, in _use\n",
            "    raise RuntimeError(msg)\n",
            "RuntimeError: Could not import backend \"Pyglet\":\n",
            "No module named 'pyglet'\n"
          ]
        }
      ]
    },
    {
      "cell_type": "code",
      "source": [
        "!zip -r /content/drive/MyDrive/Dataset/t-less_v2.zip /content/t-less_v2"
      ],
      "metadata": {
        "id": "a5fh6oZ8vipa"
      },
      "execution_count": null,
      "outputs": []
    },
    {
      "cell_type": "code",
      "source": [],
      "metadata": {
        "id": "NKfzJf10virs"
      },
      "execution_count": null,
      "outputs": []
    },
    {
      "cell_type": "markdown",
      "source": [
        "# test"
      ],
      "metadata": {
        "id": "-bQ8g0zjxvDS"
      }
    },
    {
      "cell_type": "code",
      "source": [
        "from pytless import inout, renderer, misc\n",
        "import os\n",
        "import numpy as np\n",
        "import scipy.misc\n",
        "import matplotlib.pyplot as plt\n",
        "import imageio"
      ],
      "metadata": {
        "id": "rNQ-4MgFvivE"
      },
      "execution_count": null,
      "outputs": []
    },
    {
      "cell_type": "code",
      "source": [
        "scene_ids = [20] # Choose which scene_ids to render. Eg. range(1, 21)\n",
        "device = 'primesense' # options: 'primesense', 'kinect', 'canon'\n",
        "model_type = 'cad' # options: 'cad', 'reconst'\n",
        "im_step = 100 # Consider every im_step-th image\n",
        "\n",
        "# Path to the T-LESS dataset.\n",
        "# Which you can download using the t-less_download.py script.\n",
        "data_path = 'E:\\\\DataSets'\n",
        "\n",
        "# Path to the folder in which the images produced by this script will be saved\n",
        "output_dir = os.path.join(data_path, 'output_check_poses_test_imgs')\n",
        "\n",
        "# Paths to the elements of the T-LESS dataset\n",
        "model_path_mask = os.path.join(data_path, 'models_' + model_type, 'obj_{:02d}.ply')\n",
        "scene_info_path_mask = os.path.join(data_path, 'test_{}', '{:02d}', 'info.yml')\n",
        "scene_gt_path_mask = os.path.join(data_path, 'test_{}', '{:02d}', 'gt.yml')\n",
        "rgb_path_mask = os.path.join(data_path, 'test_{}', '{:02d}', 'rgb', '{:04d}.{}')\n",
        "depth_path_mask = os.path.join(data_path, 'test_{}', '{:02d}', 'depth', '{:04d}.png')\n",
        "rgb_ext = {'primesense': 'png', 'kinect': 'png', 'canon': 'jpg'}\n",
        "obj_colors_path = os.path.join('data', 'obj_rgb.txt')\n",
        "vis_rgb_path_mask = os.path.join(output_dir, '{:02d}_{}_{}_{:04d}_rgb.png')\n",
        "vis_depth_path_mask = os.path.join(output_dir, '{:02d}_{}_{}_{:04d}_depth_diff.png')\n",
        "\n",
        "misc.ensure_dir(output_dir)\n",
        "obj_colors = inout.load_colors(obj_colors_path)"
      ],
      "metadata": {
        "id": "LSgdfbn2x6cP"
      },
      "execution_count": null,
      "outputs": []
    },
    {
      "cell_type": "code",
      "source": [],
      "metadata": {
        "id": "nQPLphO2x6e1"
      },
      "execution_count": null,
      "outputs": []
    },
    {
      "cell_type": "code",
      "source": [],
      "metadata": {
        "id": "yonGEoFCx6hP"
      },
      "execution_count": null,
      "outputs": []
    },
    {
      "cell_type": "code",
      "source": [],
      "metadata": {
        "id": "F8rrBJZ1x6kD"
      },
      "execution_count": null,
      "outputs": []
    },
    {
      "cell_type": "code",
      "source": [],
      "metadata": {
        "id": "BTBgHLuyx6mN"
      },
      "execution_count": null,
      "outputs": []
    },
    {
      "cell_type": "code",
      "source": [],
      "metadata": {
        "id": "xPb9jjJ5x6od"
      },
      "execution_count": null,
      "outputs": []
    },
    {
      "cell_type": "code",
      "source": [],
      "metadata": {
        "id": "eKoNCbhbx6qu"
      },
      "execution_count": null,
      "outputs": []
    }
  ],
  "metadata": {
    "colab": {
      "provenance": [],
      "include_colab_link": true
    },
    "kernelspec": {
      "display_name": "yk_SegAny",
      "language": "python",
      "name": "python3"
    },
    "language_info": {
      "codemirror_mode": {
        "name": "ipython",
        "version": 3
      },
      "file_extension": ".py",
      "mimetype": "text/x-python",
      "name": "python",
      "nbconvert_exporter": "python",
      "pygments_lexer": "ipython3",
      "version": "3.8.18"
    }
  },
  "nbformat": 4,
  "nbformat_minor": 0
}